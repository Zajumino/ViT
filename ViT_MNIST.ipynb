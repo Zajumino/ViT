{
 "cells": [
  {
   "cell_type": "code",
   "execution_count": 1,
   "metadata": {},
   "outputs": [],
   "source": [
    "import torch\n",
    "import torch.nn as nn\n",
    "import torch.nn.functional as F\n",
    "import torchvision\n",
    "from torchvision import transforms"
   ]
  },
  {
   "cell_type": "code",
   "execution_count": 2,
   "metadata": {},
   "outputs": [
    {
     "data": {
      "text/plain": [
       "<torch._C.Generator at 0x18d7db8d3b0>"
      ]
     },
     "execution_count": 2,
     "metadata": {},
     "output_type": "execute_result"
    }
   ],
   "source": [
    "# hyperparameters\n",
    "image_size = 28\n",
    "patch_size = 7\n",
    "num_channels = 1\n",
    "num_classes = 10\n",
    "d_model = 8\n",
    "num_heads = 2\n",
    "num_layers = 2\n",
    "learning_rate = 1e-3\n",
    "batch_size = 64\n",
    "num_epochs = 20\n",
    "dropout = 0\n",
    "\n",
    "# device\n",
    "device = torch.device(\"cuda\" if torch.cuda.is_available() else \"cpu\")\n",
    "\n",
    "# seed\n",
    "torch.manual_seed(42)"
   ]
  },
  {
   "cell_type": "code",
   "execution_count": 3,
   "metadata": {},
   "outputs": [],
   "source": [
    "no_transform = transforms.Compose([\n",
    "    transforms.Resize((image_size, image_size)),\n",
    "    transforms.ToTensor(),\n",
    "])"
   ]
  },
  {
   "cell_type": "code",
   "execution_count": 4,
   "metadata": {},
   "outputs": [],
   "source": [
    "# Load the MNIST dataset\n",
    "train_dataset = torchvision.datasets.MNIST(root='./data', train=True, transform=no_transform, download=True)\n",
    "valid_dataset = torchvision.datasets.MNIST(root='./data', train=False, transform=no_transform, download=True)\n",
    "\n",
    "train_dataloader = torch.utils.data.DataLoader(train_dataset, batch_size, shuffle=True)\n",
    "valid_dataloader = torch.utils.data.DataLoader(valid_dataset, batch_size, shuffle=False)"
   ]
  },
  {
   "cell_type": "code",
   "execution_count": 5,
   "metadata": {},
   "outputs": [
    {
     "name": "stdout",
     "output_type": "stream",
     "text": [
      "tensor(7)\n"
     ]
    },
    {
     "data": {
      "image/png": "[encoded data removed]",
      "text/plain": [
       "<Figure size 640x480 with 1 Axes>"
      ]
     },
     "metadata": {},
     "output_type": "display_data"
    }
   ],
   "source": [
    "import matplotlib.pyplot as plt\n",
    "\n",
    "image, label = next(iter(valid_dataloader))\n",
    "\n",
    "assert image_size == image.shape[-1]\n",
    "assert num_channels == image.shape[-3]\n",
    "\n",
    "plt.imshow(image[0].permute(1,2,0), cmap='gray')\n",
    "print(label[0])"
   ]
  },
  {
   "cell_type": "code",
   "execution_count": 6,
   "metadata": {},
   "outputs": [],
   "source": [
    "class ViT(nn.Module):\n",
    "    def __init__(self, image_size, patch_size, num_channels, num_classes, embed_dim, num_heads, num_layers, is_cls_tok=False, dropout=0.5):\n",
    "        super().__init__()\n",
    "        self.is_cls_tok = is_cls_tok\n",
    "\n",
    "        # Compute the number of patches\n",
    "        self.num_patches = (image_size // patch_size) ** 2\n",
    "\n",
    "        # Patch Embedding\n",
    "        self.patch_embed = nn.Conv2d(in_channels=num_channels, out_channels=embed_dim, kernel_size=patch_size, stride=patch_size) # bias=False\n",
    "\n",
    "        # Positional encoding\n",
    "        if is_cls_tok:\n",
    "            self.cls_tok = nn.Parameter(torch.randn(1, 1, embed_dim))\n",
    "            self.pos_emb = nn.Parameter(torch.randn(1, 1 + self.num_patches, embed_dim))\n",
    "        else:\n",
    "            self.cls_tok = None\n",
    "            self.pos_emb = nn.Parameter(torch.randn(1, self.num_patches, embed_dim))\n",
    "\n",
    "        # Transformer Encoder\n",
    "        encoder_layer = nn.TransformerEncoderLayer(d_model=embed_dim, nhead=num_heads, dim_feedforward=embed_dim*4, dropout=0.1)\n",
    "        self.encoder = nn.TransformerEncoder(encoder_layer, num_layers=num_layers)\n",
    "\n",
    "        # Dropout\n",
    "        self.dropout = nn.Dropout(dropout)\n",
    "        \n",
    "        # Layer Norm\n",
    "        self.ln = nn.LayerNorm(embed_dim)\n",
    "\n",
    "        # Classification Head\n",
    "        self.classification_head = nn.Linear(embed_dim, num_classes)\n",
    "\n",
    "    def forward(self, x):\n",
    "\n",
    "        # Patch Embedding\n",
    "        x = self.patch_embed(x) # (B, C, H, W)\n",
    "\n",
    "        # reshape Patches into sequence\n",
    "        x = x.flatten(2).transpose(1, 2) # (B, T, C), T=H*W\n",
    "        B, T, C = x.shape\n",
    "\n",
    "        # add Class Token\n",
    "        if self.is_cls_tok:\n",
    "            cls_tokens = self.cls_tok.repeat(B, 1, 1) # (1, 1, C) -> (B, 1, C)\n",
    "            x = torch.cat([cls_tokens, x], dim=1)\n",
    "\n",
    "        # add Positional Embedding\n",
    "        x = x + self.pos_emb # [:, : T + 1, :]\n",
    "\n",
    "        # Dropout\n",
    "        x = self.dropout(x)\n",
    "\n",
    "        # Transformer Encoder\n",
    "        x = self.encoder(x)\n",
    "\n",
    "        # Classification Head\n",
    "        if self.is_cls_tok:\n",
    "            x = x[:,0]\n",
    "        else:\n",
    "            x = x.mean(dim=1)  # global average pooling\n",
    "        x = self.ln(x)\n",
    "        x = self.classification_head(x)\n",
    "\n",
    "        return x"
   ]
  },
  {
   "cell_type": "code",
   "execution_count": 7,
   "metadata": {},
   "outputs": [
    {
     "name": "stdout",
     "output_type": "stream",
     "text": [
      "# of parameters: 2378\n"
     ]
    }
   ],
   "source": [
    "# define model\n",
    "model = ViT(image_size, patch_size, num_channels, num_classes, d_model, num_heads, num_layers, is_cls_tok=False, dropout=dropout).to(device)\n",
    "print('# of parameters:', sum(p.numel() for p in model.parameters() if p.requires_grad))\n",
    "# model = torch.compile(model) # requires pytorch >= 2.0\n",
    "\n",
    "# optimizer\n",
    "optimizer = torch.optim.AdamW(model.parameters(), lr=learning_rate)\n",
    "\n",
    "# loss function\n",
    "criterion = nn.CrossEntropyLoss()"
   ]
  },
  {
   "cell_type": "code",
   "execution_count": 8,
   "metadata": {},
   "outputs": [
    {
     "data": {
      "text/plain": [
       "tensor([[-0.0690, -0.1162, -0.0692,  0.7432,  1.4880,  0.2868,  0.2489,  0.6058,\n",
       "          0.2520, -0.4912]], grad_fn=<AddmmBackward0>)"
      ]
     },
     "execution_count": 8,
     "metadata": {},
     "output_type": "execute_result"
    }
   ],
   "source": [
    "model(torch.randn(1,1,28,28))"
   ]
  },
  {
   "cell_type": "code",
   "execution_count": 9,
   "metadata": {},
   "outputs": [],
   "source": [
    "def train(model, dataloader):\n",
    "\n",
    "    model.train()\n",
    "\n",
    "    # accumulate loss across batches\n",
    "    running_loss = 0.0\n",
    "    running_accuracy = 0.0\n",
    "\n",
    "    for x, y in dataloader:\n",
    "        #x, y = batch[0].to(device), batch[1].to(device) # move to device\n",
    "\n",
    "        optimizer.zero_grad() # reset gradients\n",
    "        y_pred = model(x) # forward pass\n",
    "        loss = criterion(y_pred, y) # calculate loss\n",
    "        loss.backward() # compute gradients\n",
    "        optimizer.step() # optimization step\n",
    "\n",
    "        running_loss += loss\n",
    "        running_accuracy += (y_pred.argmax(dim=1) == y).float().mean()\n",
    "\n",
    "    # average loss across batches\n",
    "    loss = running_loss / len(dataloader)\n",
    "    accuracy = running_accuracy / len(dataloader)\n",
    "\n",
    "    return loss, accuracy"
   ]
  },
  {
   "cell_type": "code",
   "execution_count": 10,
   "metadata": {},
   "outputs": [],
   "source": [
    "@torch.no_grad()\n",
    "def valid(model, dataloader):\n",
    "\n",
    "    model.eval()\n",
    "\n",
    "    # accumulate loss across batches\n",
    "    running_loss = 0.0\n",
    "    running_accuracy = 0.0\n",
    "\n",
    "    for x, y in dataloader:\n",
    "        #x, y = x.to(device), y.to(device) # move to device\n",
    "\n",
    "        y_pred = model(x) # forward pass\n",
    "        loss = criterion(y_pred, y) # calculate loss\n",
    "\n",
    "        running_loss += loss\n",
    "        running_accuracy += (y_pred.argmax(dim=1) == y).float().mean()\n",
    "    \n",
    "    # average loss across batches\n",
    "    loss = running_loss / len(dataloader)\n",
    "    accuracy = running_accuracy / len(dataloader)\n",
    "\n",
    "    return loss, accuracy"
   ]
  },
  {
   "cell_type": "code",
   "execution_count": 11,
   "metadata": {},
   "outputs": [
    {
     "name": "stdout",
     "output_type": "stream",
     "text": [
      "epoch 0\n",
      "training\n",
      "loss: 1.485443353652954, accuracy: 0.49623534083366394\n",
      "validating\n",
      "val_loss: 0.8647183775901794, val_accuracy: 0.7336587309837341\n",
      "epoch 1\n",
      "training\n",
      "loss: 0.8330589532852173, accuracy: 0.7375233173370361\n",
      "validating\n",
      "val_loss: 0.5992007255554199, val_accuracy: 0.8182802796363831\n",
      "epoch 2\n",
      "training\n",
      "loss: 0.677836000919342, accuracy: 0.7886627316474915\n",
      "validating\n",
      "val_loss: 0.5205157399177551, val_accuracy: 0.8437999486923218\n",
      "epoch 3\n",
      "training\n",
      "loss: 0.6038737297058105, accuracy: 0.813449501991272\n",
      "validating\n",
      "val_loss: 0.4616297781467438, val_accuracy: 0.8656716346740723\n",
      "epoch 4\n",
      "training\n",
      "loss: 0.5553653836250305, accuracy: 0.8284748196601868\n",
      "validating\n",
      "val_loss: 0.43336594104766846, val_accuracy: 0.8681703209877014\n",
      "epoch 5\n",
      "training\n",
      "loss: 0.5251518487930298, accuracy: 0.8390524983406067\n",
      "validating\n",
      "val_loss: 0.40662652254104614, val_accuracy: 0.8812466859817505\n",
      "epoch 6\n",
      "training\n",
      "loss: 0.4988752603530884, accuracy: 0.8482975959777832\n",
      "validating\n",
      "val_loss: 0.40625128149986267, val_accuracy: 0.8767657279968262\n",
      "epoch 7\n",
      "training\n",
      "loss: 0.47796928882598877, accuracy: 0.855210542678833\n",
      "validating\n",
      "val_loss: 0.36879202723503113, val_accuracy: 0.8906916379928589\n",
      "epoch 8\n",
      "training\n",
      "loss: 0.4569877088069916, accuracy: 0.8595249056816101\n",
      "validating\n",
      "val_loss: 0.36503496766090393, val_accuracy: 0.8942397236824036\n",
      "epoch 9\n",
      "training\n",
      "loss: 0.4426519274711609, accuracy: 0.8646721839904785\n",
      "validating\n",
      "val_loss: 0.35733315348625183, val_accuracy: 0.8947727680206299\n",
      "epoch 10\n",
      "training\n",
      "loss: 0.4290756285190582, accuracy: 0.8689032793045044\n",
      "validating\n",
      "val_loss: 0.3362213969230652, val_accuracy: 0.8995202779769897\n",
      "epoch 11\n",
      "training\n",
      "loss: 0.4163600504398346, accuracy: 0.8729844093322754\n",
      "validating\n",
      "val_loss: 0.33046454191207886, val_accuracy: 0.9008029103279114\n",
      "epoch 12\n",
      "training\n",
      "loss: 0.4068765640258789, accuracy: 0.8748667240142822\n",
      "validating\n",
      "val_loss: 0.31461939215660095, val_accuracy: 0.905816912651062\n",
      "epoch 13\n",
      "training\n",
      "loss: 0.39573127031326294, accuracy: 0.8788479566574097\n",
      "validating\n",
      "val_loss: 0.3099592328071594, val_accuracy: 0.9083322286605835\n",
      "epoch 14\n",
      "training\n",
      "loss: 0.3849460184574127, accuracy: 0.8818296790122986\n",
      "validating\n",
      "val_loss: 0.31815284490585327, val_accuracy: 0.9041178226470947\n",
      "epoch 15\n",
      "training\n",
      "loss: 0.3790530860424042, accuracy: 0.8846115469932556\n",
      "validating\n",
      "val_loss: 0.29534026980400085, val_accuracy: 0.9120469093322754\n",
      "epoch 16\n",
      "training\n",
      "loss: 0.3714544177055359, accuracy: 0.8857775926589966\n",
      "validating\n",
      "val_loss: 0.2873140573501587, val_accuracy: 0.9157949090003967\n",
      "epoch 17\n",
      "training\n",
      "loss: 0.365718275308609, accuracy: 0.8890591859817505\n",
      "validating\n",
      "val_loss: 0.28155583143234253, val_accuracy: 0.9150286316871643\n",
      "epoch 18\n",
      "training\n",
      "loss: 0.35561656951904297, accuracy: 0.8918076753616333\n",
      "validating\n",
      "val_loss: 0.2799761891365051, val_accuracy: 0.9180936813354492\n",
      "epoch 19\n",
      "training\n",
      "loss: 0.34875109791755676, accuracy: 0.8936067223548889\n",
      "validating\n",
      "val_loss: 0.2636907398700714, val_accuracy: 0.9207422733306885\n"
     ]
    }
   ],
   "source": [
    "# keep track of losses\n",
    "train_losses = []\n",
    "valid_losses = []\n",
    "train_accs = []\n",
    "valid_accs = []\n",
    "\n",
    "for epoch in range(num_epochs):\n",
    "    print(f'epoch {epoch}')\n",
    "    print('training')\n",
    "    loss, accuracy = train(model, train_dataloader)\n",
    "    train_losses.append(loss)\n",
    "    train_accs.append(accuracy)\n",
    "    print(f'loss: {loss}, accuracy: {accuracy}')\n",
    "    \n",
    "    print('validating')\n",
    "    loss, accuracy = valid(model, train_dataloader)\n",
    "    valid_losses.append(loss)\n",
    "    valid_accs.append(accuracy)\n",
    "    print(f'val_loss: {loss}, val_accuracy: {accuracy}')"
   ]
  },
  {
   "cell_type": "code",
   "execution_count": null,
   "metadata": {},
   "outputs": [],
   "source": []
  }
 ],
 "metadata": {
  "kernelspec": {
   "display_name": "pytorch",
   "language": "python",
   "name": "pytorch"
  },
  "language_info": {
   "codemirror_mode": {
    "name": "ipython",
    "version": 3
   },
   "file_extension": ".py",
   "mimetype": "text/x-python",
   "name": "python",
   "nbconvert_exporter": "python",
   "pygments_lexer": "ipython3",
   "version": "3.10.10"
  },
  "orig_nbformat": 4
 },
 "nbformat": 4,
 "nbformat_minor": 2
}
