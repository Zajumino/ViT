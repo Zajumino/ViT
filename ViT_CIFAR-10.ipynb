{
 "cells": [
  {
   "cell_type": "code",
   "execution_count": 1,
   "metadata": {},
   "outputs": [],
   "source": [
    "import torch\n",
    "import torch.nn as nn\n",
    "import torch.nn.functional as F\n",
    "import torchvision\n",
    "from torchvision import transforms"
   ]
  },
  {
   "cell_type": "code",
   "execution_count": 2,
   "metadata": {},
   "outputs": [
    {
     "data": {
      "text/plain": [
       "<torch._C.Generator at 0x2421f61d390>"
      ]
     },
     "execution_count": 2,
     "metadata": {},
     "output_type": "execute_result"
    }
   ],
   "source": [
    "# hyperparameters\n",
    "image_size = 32\n",
    "patch_size = 16\n",
    "num_channels = 3\n",
    "num_classes = 10\n",
    "d_model = 384\n",
    "num_heads = 12\n",
    "num_layers = 7\n",
    "learning_rate = 2e-3\n",
    "batch_size = 64\n",
    "num_epochs = 20\n",
    "dropout = 0\n",
    "\n",
    "# device\n",
    "device = torch.device(\"cuda\" if torch.cuda.is_available() else \"cpu\")\n",
    "\n",
    "# seed\n",
    "torch.manual_seed(42)"
   ]
  },
  {
   "cell_type": "code",
   "execution_count": 3,
   "metadata": {},
   "outputs": [],
   "source": [
    "# data transforms (image augmentations)\n",
    "\n",
    "transform = transforms.Compose([\n",
    "    transforms.RandomResizedCrop(image_size),\n",
    "    transforms.RandomHorizontalFlip(p=0.3),\n",
    "    transforms.ToTensor(),\n",
    "    transforms.Normalize(mean=[0.485, 0.456, 0.406], std=[0.229, 0.224, 0.225])\n",
    "])\n",
    "\n",
    "no_transform = transforms.Compose([\n",
    "    transforms.Resize((image_size, image_size)),\n",
    "    transforms.ToTensor(),\n",
    "    transforms.Normalize(mean=[0.485, 0.456, 0.406], std=[0.229, 0.224, 0.225])\n",
    "])\n",
    "\n",
    "denormalize = transforms.Normalize(\n",
    "    mean=[-0.485/0.229, -0.456/0.224, -0.406/0.225],\n",
    "    std=[1/0.229, 1/0.224, 1/0.225]\n",
    ")"
   ]
  },
  {
   "cell_type": "code",
   "execution_count": 4,
   "metadata": {},
   "outputs": [
    {
     "name": "stdout",
     "output_type": "stream",
     "text": [
      "Files already downloaded and verified\n",
      "Files already downloaded and verified\n"
     ]
    }
   ],
   "source": [
    "# Load the CIFAR-10 dataset\n",
    "#torchvision.datasets.CIFAR10.url=\"http://www.cs.toronto.edu/~kriz/cifar-10-python.tar.gz\" # fix URL error\n",
    "\n",
    "train_dataset = torchvision.datasets.CIFAR10(root='./data', train=True, transform=transform, download=True)\n",
    "valid_dataset = torchvision.datasets.CIFAR10(root='./data', train=False, transform=no_transform, download=True)\n",
    "\n",
    "train_dataloader = torch.utils.data.DataLoader(train_dataset, batch_size, shuffle=True)\n",
    "valid_dataloader = torch.utils.data.DataLoader(valid_dataset, batch_size, shuffle=False)"
   ]
  },
  {
   "cell_type": "code",
   "execution_count": 5,
   "metadata": {},
   "outputs": [
    {
     "name": "stdout",
     "output_type": "stream",
     "text": [
      "tensor(3)\n"
     ]
    },
    {
     "data": {
      "image/png": "[encoded data removed]",
      "text/plain": [
       "<Figure size 640x480 with 1 Axes>"
      ]
     },
     "metadata": {},
     "output_type": "display_data"
    }
   ],
   "source": [
    "import matplotlib.pyplot as plt\n",
    "\n",
    "image, label = next(iter(valid_dataloader))\n",
    "\n",
    "assert image_size == image.shape[-1]\n",
    "assert num_channels == image.shape[-3]\n",
    "\n",
    "plt.imshow(denormalize(image)[0].permute(1,2,0))\n",
    "print(label[0])"
   ]
  },
  {
   "cell_type": "markdown",
   "metadata": {},
   "source": [
    "num_patches = (image_size // patch_size) ** 2\n",
    "patch_embedding = nn.Conv2d(in_channels=1, out_channels=d_model, kernel_size=patch_size, stride=patch_size)\n",
    "cls_token = nn.Parameter(torch.randn(1, 1, d_model))\n",
    "pos_embed = nn.Parameter(torch.randn(1, 1 + num_patches, d_model))\n",
    "encoder_layer = nn.TransformerEncoderLayer(d_model=d_model, nhead=num_heads, dim_feedforward=d_model * 4, dropout=0.1)\n",
    "encoder = nn.TransformerEncoder(encoder_layer, num_layers=num_layers)\n",
    "classification_head = nn.Linear(d_model, num_classes)\n",
    "\n",
    "x = patch_embedding(image) # (B, C, H, W)\n",
    "x = x.flatten(2).transpose(1, 2) # (B, T, C), T=H*W\n",
    "(B, T, C) = x.shape\n",
    "print(x.shape)\n",
    "\n",
    "cls_tokens = cls_token.repeat(B, 1, 1) # (1, 1, C) -> (B, 1, C)\n",
    "x = torch.cat([cls_tokens, x], dim=1) # (B, T+1, C)\n",
    "print(str(cls_token.shape) + ' ->', str(cls_tokens.shape))\n",
    "print(x.shape)\n",
    "\n",
    "x = x + pos_embed[:, : T + 1] # (B, T+1, C)\n",
    "print(pos_embed.shape, pos_embed[:, : T + 1].shape)\n",
    "print(x.shape)\n",
    "\n",
    "x = encoder(x)\n",
    "print(x.shape)\n",
    "x = x.mean(dim=1)\n",
    "print(x.shape)\n",
    "classification_head(x)\n",
    "print(x.shape)"
   ]
  },
  {
   "attachments": {},
   "cell_type": "markdown",
   "metadata": {},
   "source": [
    "TODO act, conv bias"
   ]
  },
  {
   "cell_type": "code",
   "execution_count": 6,
   "metadata": {},
   "outputs": [],
   "source": [
    "class ViT(nn.Module):\n",
    "    def __init__(self, image_size, patch_size, num_channels, num_classes, embed_dim, num_heads, num_layers, is_cls_tok=False, dropout=0.5):\n",
    "        super().__init__()\n",
    "        self.is_cls_tok = is_cls_tok\n",
    "\n",
    "        # Compute the number of patches\n",
    "        self.num_patches = (image_size // patch_size) ** 2\n",
    "\n",
    "        # Patch Embedding\n",
    "        self.patch_embed = nn.Conv2d(in_channels=num_channels, out_channels=embed_dim, kernel_size=patch_size, stride=patch_size) # bias=False\n",
    "\n",
    "        # Positional encoding\n",
    "        if is_cls_tok:\n",
    "            self.cls_tok = nn.Parameter(torch.randn(1, 1, embed_dim))\n",
    "            self.pos_emb = nn.Parameter(torch.randn(1, 1 + self.num_patches, embed_dim))\n",
    "        else:\n",
    "            self.cls_tok = None\n",
    "            self.pos_emb = nn.Parameter(torch.randn(1, self.num_patches, embed_dim))\n",
    "\n",
    "        # Transformer Encoder\n",
    "        encoder_layer = nn.TransformerEncoderLayer(d_model=embed_dim, nhead=num_heads, dim_feedforward=embed_dim*4, dropout=0.1)\n",
    "        self.encoder = nn.TransformerEncoder(encoder_layer, num_layers=num_layers)\n",
    "\n",
    "        # Dropout\n",
    "        self.dropout = nn.Dropout(dropout)\n",
    "        \n",
    "        # Layer Norm\n",
    "        self.ln = nn.LayerNorm(embed_dim)\n",
    "\n",
    "        # Classification Head\n",
    "        self.classification_head = nn.Linear(embed_dim, num_classes)\n",
    "\n",
    "    def forward(self, x):\n",
    "\n",
    "        # Patch Embedding\n",
    "        x = self.patch_embed(x) # (B, C, H, W)\n",
    "\n",
    "        # reshape Patches into sequence\n",
    "        x = x.flatten(2).transpose(1, 2) # (B, T, C), T=H*W\n",
    "        B, T, C = x.shape\n",
    "\n",
    "        # add Class Token\n",
    "        if self.is_cls_tok:\n",
    "            cls_tokens = self.cls_tok.repeat(B, 1, 1) # (1, 1, C) -> (B, 1, C)\n",
    "            x = torch.cat([cls_tokens, x], dim=1)\n",
    "\n",
    "        # add Positional Embedding\n",
    "        x = x + self.pos_emb # [:, : T + 1, :]\n",
    "\n",
    "        # Dropout\n",
    "        x = self.dropout(x)\n",
    "\n",
    "        # Transformer Encoder\n",
    "        x = self.encoder(x)\n",
    "\n",
    "        # Classification Head\n",
    "        if self.is_cls_tok:\n",
    "            x = x[:,0]\n",
    "        else:\n",
    "            x = x.mean(dim=1)  # global average pooling\n",
    "        x = self.ln(x)\n",
    "        x = self.classification_head(x)\n",
    "\n",
    "        return x"
   ]
  },
  {
   "cell_type": "code",
   "execution_count": 7,
   "metadata": {},
   "outputs": [
    {
     "name": "stdout",
     "output_type": "stream",
     "text": [
      "# of parameters: 12722698\n"
     ]
    }
   ],
   "source": [
    "# define model\n",
    "model = ViT(image_size, patch_size, num_channels, num_classes, d_model, num_heads, num_layers, is_cls_tok=False, dropout=dropout).to(device)\n",
    "print('# of parameters:', sum(p.numel() for p in model.parameters() if p.requires_grad))\n",
    "# model = torch.compile(model) # requires pytorch >= 2.0\n",
    "\n",
    "# optimizer\n",
    "optimizer = torch.optim.AdamW(model.parameters(), lr=learning_rate)\n",
    "\n",
    "# loss function\n",
    "criterion = nn.CrossEntropyLoss()"
   ]
  },
  {
   "cell_type": "code",
   "execution_count": 8,
   "metadata": {},
   "outputs": [
    {
     "data": {
      "text/plain": [
       "tensor([-0.1668,  0.1653, -0.1987, -0.0517, -0.3182, -0.4312,  0.4526,  0.4717,\n",
       "         0.0242,  0.2208], grad_fn=<SelectBackward0>)"
      ]
     },
     "execution_count": 8,
     "metadata": {},
     "output_type": "execute_result"
    }
   ],
   "source": [
    "model(torch.randn(64,3,32,32))[0]"
   ]
  },
  {
   "cell_type": "code",
   "execution_count": 9,
   "metadata": {},
   "outputs": [],
   "source": [
    "def train(model, dataloader):\n",
    "\n",
    "    model.train()\n",
    "\n",
    "    # accumulate loss across batches\n",
    "    running_loss = 0.0\n",
    "    running_accuracy = 0.0\n",
    "\n",
    "    for x, y in dataloader:\n",
    "        #x, y = batch[0], batch[1] # move to device\n",
    "\n",
    "        optimizer.zero_grad() # reset gradients\n",
    "        y_pred = model(x) # forward pass\n",
    "        loss = criterion(y_pred, y) # calculate loss\n",
    "        loss.backward() # compute gradients\n",
    "        optimizer.step() # optimization step\n",
    "\n",
    "        running_loss += loss\n",
    "        running_accuracy += (y_pred.argmax(dim=1) == y).float().mean()\n",
    "\n",
    "    # average loss across batches\n",
    "    loss = running_loss / len(dataloader)\n",
    "    accuracy = running_accuracy / len(dataloader)\n",
    "\n",
    "    return loss, accuracy"
   ]
  },
  {
   "cell_type": "code",
   "execution_count": 10,
   "metadata": {},
   "outputs": [],
   "source": [
    "@torch.no_grad()\n",
    "def valid(model, dataloader):\n",
    "\n",
    "    model.eval()\n",
    "\n",
    "    # accumulate loss across batches\n",
    "    running_loss = 0.0\n",
    "    running_accuracy = 0.0\n",
    "\n",
    "    for x, y in dataloader:\n",
    "        #x, y = x.to(device), y.to(device) # move to device\n",
    "\n",
    "        y_pred = model(x) # forward pass\n",
    "        loss = criterion(y_pred, y) # calculate loss\n",
    "\n",
    "        running_loss += loss\n",
    "        running_accuracy += (y_pred.argmax(dim=1) == y).float().mean()\n",
    "    \n",
    "    # average loss across batches\n",
    "    loss = running_loss / len(dataloader)\n",
    "    accuracy = running_accuracy / len(dataloader)\n",
    "\n",
    "    return loss, accuracy"
   ]
  },
  {
   "cell_type": "code",
   "execution_count": 11,
   "metadata": {},
   "outputs": [
    {
     "name": "stdout",
     "output_type": "stream",
     "text": [
      "epoch 0\n",
      "training\n",
      "loss: 2.3375003337860107, accuracy: 0.09938459098339081\n",
      "validating\n",
      "val_loss: 2.30583119392395, val_accuracy: 0.09996403753757477\n",
      "epoch 1\n",
      "training\n",
      "loss: 2.305652141571045, accuracy: 0.09840553253889084\n",
      "validating\n",
      "val_loss: 2.303351640701294, val_accuracy: 0.10002397745847702\n",
      "epoch 2\n",
      "training\n",
      "loss: 2.303988456726074, accuracy: 0.09954443573951721\n",
      "validating\n",
      "val_loss: 2.3028640747070312, val_accuracy: 0.09996403753757477\n",
      "epoch 3\n",
      "training\n",
      "loss: 2.303583860397339, accuracy: 0.10070332139730453\n",
      "validating\n",
      "val_loss: 2.3033993244171143, val_accuracy: 0.09996403753757477\n",
      "epoch 4\n",
      "training\n",
      "loss: 2.3036396503448486, accuracy: 0.09824568778276443\n",
      "validating\n",
      "val_loss: 2.3028671741485596, val_accuracy: 0.09990409016609192\n",
      "epoch 5\n",
      "training\n",
      "loss: 2.303689956665039, accuracy: 0.09852541238069534\n",
      "validating\n",
      "val_loss: 2.3034377098083496, val_accuracy: 0.10020380467176437\n",
      "epoch 6\n",
      "training\n",
      "loss: 2.303866147994995, accuracy: 0.09792599081993103\n",
      "validating\n",
      "val_loss: 2.3030459880828857, val_accuracy: 0.10002397745847702\n",
      "epoch 7\n",
      "training\n",
      "loss: 2.303630828857422, accuracy: 0.09834558516740799\n",
      "validating\n",
      "val_loss: 2.3033974170684814, val_accuracy: 0.09996403753757477\n",
      "epoch 8\n",
      "training\n",
      "loss: 2.303828239440918, accuracy: 0.09876518696546555\n",
      "validating\n",
      "val_loss: 2.3030312061309814, val_accuracy: 0.09996403753757477\n",
      "epoch 9\n",
      "training\n",
      "loss: 2.3037407398223877, accuracy: 0.10026374459266663\n",
      "validating\n",
      "val_loss: 2.3029723167419434, val_accuracy: 0.10014386475086212\n",
      "epoch 10\n",
      "training\n",
      "loss: 2.30354380607605, accuracy: 0.09832561016082764\n",
      "validating\n",
      "val_loss: 2.3034496307373047, val_accuracy: 0.09996403753757477\n",
      "epoch 11\n",
      "training\n",
      "loss: 2.303659677505493, accuracy: 0.0960477963089943\n",
      "validating\n",
      "val_loss: 2.3030242919921875, val_accuracy: 0.10002397745847702\n",
      "epoch 12\n",
      "training\n",
      "loss: 2.303511619567871, accuracy: 0.10104300081729889\n",
      "validating\n",
      "val_loss: 2.302711009979248, val_accuracy: 0.10002397745847702\n",
      "epoch 13\n",
      "training\n",
      "loss: 2.3034822940826416, accuracy: 0.09936460852622986\n",
      "validating\n",
      "val_loss: 2.303041696548462, val_accuracy: 0.10002397745847702\n",
      "epoch 14\n",
      "training\n",
      "loss: 2.303229808807373, accuracy: 0.1016823872923851\n",
      "validating\n",
      "val_loss: 2.303284168243408, val_accuracy: 0.10002397745847702\n",
      "epoch 15\n",
      "training\n",
      "loss: 2.3032984733581543, accuracy: 0.10040361434221268\n",
      "validating\n",
      "val_loss: 2.3028762340545654, val_accuracy: 0.09996403753757477\n",
      "epoch 16\n",
      "training\n"
     ]
    },
    {
     "ename": "KeyboardInterrupt",
     "evalue": "",
     "output_type": "error",
     "traceback": [
      "\u001b[1;31m---------------------------------------------------------------------------\u001b[0m",
      "\u001b[1;31mKeyboardInterrupt\u001b[0m                         Traceback (most recent call last)",
      "Cell \u001b[1;32mIn[11], line 10\u001b[0m\n\u001b[0;32m      8\u001b[0m \u001b[39mprint\u001b[39m(\u001b[39mf\u001b[39m\u001b[39m'\u001b[39m\u001b[39mepoch \u001b[39m\u001b[39m{\u001b[39;00mepoch\u001b[39m}\u001b[39;00m\u001b[39m'\u001b[39m)\n\u001b[0;32m      9\u001b[0m \u001b[39mprint\u001b[39m(\u001b[39m'\u001b[39m\u001b[39mtraining\u001b[39m\u001b[39m'\u001b[39m)\n\u001b[1;32m---> 10\u001b[0m loss, accuracy \u001b[39m=\u001b[39m train(model, train_dataloader)\n\u001b[0;32m     11\u001b[0m train_losses\u001b[39m.\u001b[39mappend(loss)\n\u001b[0;32m     12\u001b[0m train_accs\u001b[39m.\u001b[39mappend(accuracy)\n",
      "Cell \u001b[1;32mIn[9], line 15\u001b[0m, in \u001b[0;36mtrain\u001b[1;34m(model, dataloader)\u001b[0m\n\u001b[0;32m     13\u001b[0m y_pred \u001b[39m=\u001b[39m model(x) \u001b[39m# forward pass\u001b[39;00m\n\u001b[0;32m     14\u001b[0m loss \u001b[39m=\u001b[39m criterion(y_pred, y) \u001b[39m# calculate loss\u001b[39;00m\n\u001b[1;32m---> 15\u001b[0m loss\u001b[39m.\u001b[39;49mbackward() \u001b[39m# compute gradients\u001b[39;00m\n\u001b[0;32m     16\u001b[0m optimizer\u001b[39m.\u001b[39mstep() \u001b[39m# optimization step\u001b[39;00m\n\u001b[0;32m     18\u001b[0m running_loss \u001b[39m+\u001b[39m\u001b[39m=\u001b[39m loss\n",
      "File \u001b[1;32mc:\\Users\\ikang\\anaconda3\\envs\\pytorch\\lib\\site-packages\\torch\\_tensor.py:488\u001b[0m, in \u001b[0;36mTensor.backward\u001b[1;34m(self, gradient, retain_graph, create_graph, inputs)\u001b[0m\n\u001b[0;32m    478\u001b[0m \u001b[39mif\u001b[39;00m has_torch_function_unary(\u001b[39mself\u001b[39m):\n\u001b[0;32m    479\u001b[0m     \u001b[39mreturn\u001b[39;00m handle_torch_function(\n\u001b[0;32m    480\u001b[0m         Tensor\u001b[39m.\u001b[39mbackward,\n\u001b[0;32m    481\u001b[0m         (\u001b[39mself\u001b[39m,),\n\u001b[1;32m   (...)\u001b[0m\n\u001b[0;32m    486\u001b[0m         inputs\u001b[39m=\u001b[39minputs,\n\u001b[0;32m    487\u001b[0m     )\n\u001b[1;32m--> 488\u001b[0m torch\u001b[39m.\u001b[39;49mautograd\u001b[39m.\u001b[39;49mbackward(\n\u001b[0;32m    489\u001b[0m     \u001b[39mself\u001b[39;49m, gradient, retain_graph, create_graph, inputs\u001b[39m=\u001b[39;49minputs\n\u001b[0;32m    490\u001b[0m )\n",
      "File \u001b[1;32mc:\\Users\\ikang\\anaconda3\\envs\\pytorch\\lib\\site-packages\\torch\\autograd\\__init__.py:197\u001b[0m, in \u001b[0;36mbackward\u001b[1;34m(tensors, grad_tensors, retain_graph, create_graph, grad_variables, inputs)\u001b[0m\n\u001b[0;32m    192\u001b[0m     retain_graph \u001b[39m=\u001b[39m create_graph\n\u001b[0;32m    194\u001b[0m \u001b[39m# The reason we repeat same the comment below is that\u001b[39;00m\n\u001b[0;32m    195\u001b[0m \u001b[39m# some Python versions print out the first line of a multi-line function\u001b[39;00m\n\u001b[0;32m    196\u001b[0m \u001b[39m# calls in the traceback and some print out the last line\u001b[39;00m\n\u001b[1;32m--> 197\u001b[0m Variable\u001b[39m.\u001b[39;49m_execution_engine\u001b[39m.\u001b[39;49mrun_backward(  \u001b[39m# Calls into the C++ engine to run the backward pass\u001b[39;49;00m\n\u001b[0;32m    198\u001b[0m     tensors, grad_tensors_, retain_graph, create_graph, inputs,\n\u001b[0;32m    199\u001b[0m     allow_unreachable\u001b[39m=\u001b[39;49m\u001b[39mTrue\u001b[39;49;00m, accumulate_grad\u001b[39m=\u001b[39;49m\u001b[39mTrue\u001b[39;49;00m)\n",
      "\u001b[1;31mKeyboardInterrupt\u001b[0m: "
     ]
    }
   ],
   "source": [
    "# keeping track of losses as it happen\n",
    "train_losses = []\n",
    "valid_losses = []\n",
    "train_accs = []\n",
    "valid_accs = []\n",
    "\n",
    "for epoch in range(num_epochs):\n",
    "    print(f'epoch {epoch}')\n",
    "    print('training')\n",
    "    loss, accuracy = train(model, train_dataloader)\n",
    "    train_losses.append(loss)\n",
    "    train_accs.append(accuracy)\n",
    "    print(f'loss: {loss}, accuracy: {accuracy}')\n",
    "    \n",
    "    print('validating')\n",
    "    loss, accuracy = valid(model, train_dataloader)\n",
    "    valid_losses.append(loss)\n",
    "    valid_accs.append(accuracy)\n",
    "    print(f'val_loss: {loss}, val_accuracy: {accuracy}')"
   ]
  },
  {
   "cell_type": "code",
   "execution_count": null,
   "metadata": {},
   "outputs": [],
   "source": []
  }
 ],
 "metadata": {
  "kernelspec": {
   "display_name": "pytorch",
   "language": "python",
   "name": "pytorch"
  },
  "language_info": {
   "codemirror_mode": {
    "name": "ipython",
    "version": 3
   },
   "file_extension": ".py",
   "mimetype": "text/x-python",
   "name": "python",
   "nbconvert_exporter": "python",
   "pygments_lexer": "ipython3",
   "version": "3.10.10"
  },
  "orig_nbformat": 4
 },
 "nbformat": 4,
 "nbformat_minor": 2
}
